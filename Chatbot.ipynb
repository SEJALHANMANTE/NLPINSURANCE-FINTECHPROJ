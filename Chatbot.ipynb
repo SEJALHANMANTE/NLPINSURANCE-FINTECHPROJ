{
 "cells": [
  {
   "cell_type": "markdown",
   "metadata": {},
   "source": [
    "# Step 1: Decode the InsuranceQA Dataset"
   ]
  },
  {
   "cell_type": "code",
   "execution_count": 1,
   "metadata": {},
   "outputs": [
    {
     "name": "stdout",
     "output_type": "stream",
     "text": [
      "✅ Decoding complete! Results saved to D:\\NLPInsuranceProject\\decoded_questions.json\n",
      "[\n",
      "    {\n",
      "        \"category\": \"disability-insurance\",\n",
      "        \"question\": \"Is Disability Insurance Required By Law?\"\n",
      "    },\n",
      "    {\n",
      "        \"category\": \"life-insurance\",\n",
      "        \"question\": \"Can Creditors Take Life Insurance After Death?\"\n",
      "    },\n",
      "    {\n",
      "        \"category\": \"renters-insurance\",\n",
      "        \"question\": \"Does Travelers Insurance Have Renters Insurance?\"\n",
      "    }\n",
      "]\n"
     ]
    }
   ],
   "source": [
    "import json\n",
    "import gzip\n",
    "\n",
    "# Function to load vocabulary from a file\n",
    "def load_vocabulary(vocab_file_path):\n",
    "    vocab_dict = {}\n",
    "    with open(vocab_file_path, \"r\", encoding=\"utf-8\") as file:\n",
    "        for line in file:\n",
    "            parts = line.strip().split(\"\\t\", 1)  # Split only on the first tab\n",
    "            if len(parts) == 2:\n",
    "                index, word = parts\n",
    "                vocab_dict[index] = word  # Store mapping\n",
    "    return vocab_dict\n",
    "\n",
    "# Function to decode category and question only\n",
    "def decode_questions(encoded_file_path, vocab_dict1, vocab_dict2):\n",
    "    decoded_questions = []\n",
    "    \n",
    "    try:\n",
    "        with gzip.open(encoded_file_path, 'rt', encoding='utf-8') as file:\n",
    "            for line in file:\n",
    "                parts = line.strip().split(\"\\t\")\n",
    "                \n",
    "                if len(parts) >= 2:  # Ensure the format is correct\n",
    "                    question_category = parts[0]  # The first part is the category\n",
    "                    encoded_question = parts[1]  # The second part is the encoded question\n",
    "\n",
    "                    # Decode the question using both vocab dictionaries\n",
    "                    decoded_question = \" \".join([vocab_dict1.get(token, vocab_dict2.get(token, \"[UNKNOWN]\")) for token in encoded_question.split()])\n",
    "\n",
    "                    # Store the decoded category and question\n",
    "                    decoded_questions.append({\n",
    "                        'category': question_category,\n",
    "                        'question': decoded_question\n",
    "                    })\n",
    "    except Exception as e:\n",
    "        print(f\"Error decoding file {encoded_file_path}: {e}\")\n",
    "    \n",
    "    return decoded_questions\n",
    "\n",
    "# File paths\n",
    "vocab_file1_path = r\"D:\\NLPInsuranceProject\\NLPINSURANCE-FINTECHPROJ\\dataset insurance qa\\vocabulary\"\n",
    "vocab_file2_path = r\"D:\\NLPInsuranceProject\\NLPINSURANCE-FINTECHPROJ\\vocabulary.txt\"\n",
    "train_file_path = r\"D:\\NLPInsuranceProject\\NLPINSURANCE-FINTECHPROJ\\dataset insurance qa\\InsuranceQA.question.anslabel.raw.1500.pool.solr.train.encoded.gz\"\n",
    "test1_file_path = r\"D:\\NLPInsuranceProject\\NLPINSURANCE-FINTECHPROJ\\dataset insurance qa\\InsuranceQA.question.anslabel.raw.1500.pool.solr.test.encoded.gz\"\n",
    "test2_file_path = r\"D:\\NLPInsuranceProject\\NLPINSURANCE-FINTECHPROJ\\dataset insurance qa\\InsuranceQA.question.anslabel.raw.1000.pool.solr.test.encoded.gz\"\n",
    "\n",
    "# Load both vocabulary files\n",
    "vocab_dict1 = load_vocabulary(vocab_file1_path)\n",
    "vocab_dict2 = load_vocabulary(vocab_file2_path)\n",
    "\n",
    "# Decode only questions\n",
    "train_questions = decode_questions(train_file_path, vocab_dict1, vocab_dict2)\n",
    "test1_questions = decode_questions(test1_file_path, vocab_dict1, vocab_dict2)\n",
    "test2_questions = decode_questions(test2_file_path, vocab_dict1, vocab_dict2)\n",
    "\n",
    "# Combine all decoded questions\n",
    "all_questions_decoded = train_questions + test1_questions + test2_questions\n",
    "\n",
    "# Save decoded data as a JSON file\n",
    "output_file_path = r\"D:\\NLPInsuranceProject\\decoded_questions.json\"\n",
    "with open(output_file_path, 'w', encoding='utf-8') as f_out:\n",
    "    json.dump(all_questions_decoded, f_out, indent=4, ensure_ascii=False)\n",
    "\n",
    "print(f\"✅ Decoding complete! Results saved to {output_file_path}\")\n",
    "\n",
    "# Display a few decoded examples\n",
    "print(json.dumps(all_questions_decoded[:3], indent=4, ensure_ascii=False))\n"
   ]
  },
  {
   "cell_type": "code",
   "execution_count": 2,
   "metadata": {},
   "outputs": [
    {
     "name": "stdout",
     "output_type": "stream",
     "text": [
      "Requirement already satisfied: SpeechRecognition in d:\\anaconda3\\lib\\site-packages (3.14.2)\n",
      "Requirement already satisfied: typing-extensions in d:\\anaconda3\\lib\\site-packages (from SpeechRecognition) (4.11.0)\n",
      "Note: you may need to restart the kernel to use updated packages.\n"
     ]
    }
   ],
   "source": [
    "pip install SpeechRecognition"
   ]
  },
  {
   "cell_type": "markdown",
   "metadata": {},
   "source": [
    "# HE WALA GHE"
   ]
  },
  {
   "cell_type": "code",
   "execution_count": 3,
   "metadata": {},
   "outputs": [
    {
     "name": "stdout",
     "output_type": "stream",
     "text": [
      "WARNING:tensorflow:From d:\\anaconda3\\Lib\\site-packages\\tf_keras\\src\\losses.py:2976: The name tf.losses.sparse_softmax_cross_entropy is deprecated. Please use tf.compat.v1.losses.sparse_softmax_cross_entropy instead.\n",
      "\n"
     ]
    }
   ],
   "source": [
    "import sqlite3\n",
    "import speech_recognition as sr\n",
    "import pyttsx3\n",
    "import numpy as np\n",
    "from openai import OpenAI\n",
    "from sentence_transformers import SentenceTransformer\n",
    "from IPython.display import display, Markdown\n",
    "\n",
    "# ✅ Set Up OpenRouter API\n",
    "API_KEY = \"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\"\n",
    "client = OpenAI(\n",
    "    base_url=\"https://openrouter.ai/api/v1\",\n",
    "    api_key=API_KEY,\n",
    "    default_headers={ \n",
    "        \"Authorization\": f\"Bearer {API_KEY}\",  \n",
    "        \"X-Title\": \"Insurance Chatbot\"\n",
    "    }\n",
    ")"
   ]
  },
  {
   "cell_type": "code",
   "execution_count": 4,
   "metadata": {},
   "outputs": [
    {
     "name": "stdout",
     "output_type": "stream",
     "text": [
      "Total training pairs: 16888\n"
     ]
    }
   ],
   "source": [
    "import json\n",
    "from sentence_transformers import InputExample\n",
    "\n",
    "# ✅ Load the JSON File\n",
    "with open(\"decoded_questions.json\", \"r\", encoding=\"utf-8\") as f:\n",
    "    questions_data = json.load(f)\n",
    "\n",
    "# ✅ Extract question pairs (create synthetic paraphrases for now)\n",
    "examples = []\n",
    "questions = [entry[\"question\"] for entry in questions_data]\n",
    "\n",
    "# We'll use simple random pairs (not ideal, but okay for initial fine-tune)\n",
    "for i in range(len(questions) - 1):\n",
    "    examples.append(InputExample(texts=[questions[i], questions[i + 1]]))\n",
    "\n",
    "print(f\"Total training pairs: {len(examples)}\")\n"
   ]
  },
  {
   "cell_type": "code",
   "execution_count": 5,
   "metadata": {},
   "outputs": [
    {
     "name": "stdout",
     "output_type": "stream",
     "text": [
      "✅ Prepared 8441 training examples\n"
     ]
    }
   ],
   "source": [
    "import json\n",
    "from sentence_transformers import InputExample\n",
    "from collections import defaultdict\n",
    "import random\n",
    "\n",
    "# ✅ Load decoded questions\n",
    "with open(\"decoded_questions.json\", \"r\", encoding=\"utf-8\") as f:\n",
    "    data = json.load(f)\n",
    "\n",
    "# ✅ Group questions by category\n",
    "category_to_questions = defaultdict(list)\n",
    "for item in data:\n",
    "    category = item[\"category\"]\n",
    "    question = item[\"question\"]\n",
    "    category_to_questions[category].append(question)\n",
    "\n",
    "# ✅ Create pairs of similar questions from the same category\n",
    "examples = []\n",
    "for category, questions in category_to_questions.items():\n",
    "    if len(questions) < 2:\n",
    "        continue\n",
    "    random.shuffle(questions)\n",
    "    for i in range(0, len(questions) - 1, 2):\n",
    "        q1, q2 = questions[i], questions[i + 1]\n",
    "        examples.append(InputExample(texts=[q1, q2]))\n",
    "\n",
    "print(f\"✅ Prepared {len(examples)} training examples\")\n"
   ]
  },
  {
   "cell_type": "code",
   "execution_count": 6,
   "metadata": {},
   "outputs": [],
   "source": [
    "sentences1 = [\n",
    "    \"What is term insurance?\",\n",
    "    \"How can I cancel my health insurance?\",\n",
    "    \"Does motor insurance cover theft?\"\n",
    "]\n",
    "\n",
    "sentences2 = [\n",
    "    \"Explain term insurance coverage.\",\n",
    "    \"What’s the process for cancelling a policy?\",\n",
    "    \"Is vehicle theft included in insurance?\"\n",
    "]\n",
    "\n",
    "scores = [0.95, 0.8, 0.9]  # Based on your judgment or annotations\n"
   ]
  },
  {
   "cell_type": "code",
   "execution_count": 8,
   "metadata": {},
   "outputs": [
    {
     "data": {
      "application/vnd.jupyter.widget-view+json": {
       "model_id": "47e986cc571949c583e12333fc6b00eb",
       "version_major": 2,
       "version_minor": 0
      },
      "text/plain": [
       "Computing widget examples:   0%|          | 0/1 [00:00<?, ?example/s]"
      ]
     },
     "metadata": {},
     "output_type": "display_data"
    },
    {
     "data": {
      "text/html": [
       "\n",
       "    <div>\n",
       "      \n",
       "      <progress value='660' max='660' style='width:300px; height:20px; vertical-align: middle;'></progress>\n",
       "      [660/660 18:06, Epoch 5/5]\n",
       "    </div>\n",
       "    <table border=\"1\" class=\"dataframe\">\n",
       "  <thead>\n",
       " <tr style=\"text-align: left;\">\n",
       "      <th>Step</th>\n",
       "      <th>Training Loss</th>\n",
       "      <th>Validation Loss</th>\n",
       "      <th>Pearson Cosine</th>\n",
       "      <th>Spearman Cosine</th>\n",
       "    </tr>\n",
       "  </thead>\n",
       "  <tbody>\n",
       "    <tr>\n",
       "      <td>132</td>\n",
       "      <td>No log</td>\n",
       "      <td>No log</td>\n",
       "      <td>0.975155</td>\n",
       "      <td>1.000000</td>\n",
       "    </tr>\n",
       "    <tr>\n",
       "      <td>264</td>\n",
       "      <td>No log</td>\n",
       "      <td>No log</td>\n",
       "      <td>0.972147</td>\n",
       "      <td>1.000000</td>\n",
       "    </tr>\n",
       "    <tr>\n",
       "      <td>396</td>\n",
       "      <td>No log</td>\n",
       "      <td>No log</td>\n",
       "      <td>0.971722</td>\n",
       "      <td>1.000000</td>\n",
       "    </tr>\n",
       "    <tr>\n",
       "      <td>500</td>\n",
       "      <td>2.305000</td>\n",
       "      <td>No log</td>\n",
       "      <td>0.969061</td>\n",
       "      <td>1.000000</td>\n",
       "    </tr>\n",
       "    <tr>\n",
       "      <td>528</td>\n",
       "      <td>2.305000</td>\n",
       "      <td>No log</td>\n",
       "      <td>0.971763</td>\n",
       "      <td>1.000000</td>\n",
       "    </tr>\n",
       "    <tr>\n",
       "      <td>660</td>\n",
       "      <td>2.305000</td>\n",
       "      <td>No log</td>\n",
       "      <td>0.970769</td>\n",
       "      <td>1.000000</td>\n",
       "    </tr>\n",
       "  </tbody>\n",
       "</table><p>"
      ],
      "text/plain": [
       "<IPython.core.display.HTML object>"
      ]
     },
     "metadata": {},
     "output_type": "display_data"
    }
   ],
   "source": [
    "from torch.utils.data import DataLoader\n",
    "from sentence_transformers import SentenceTransformer, losses\n",
    "\n",
    "from sentence_transformers.evaluation import EmbeddingSimilarityEvaluator\n",
    "\n",
    "\n",
    "# ✅ Load base model\n",
    "model = SentenceTransformer(\"all-MiniLM-L6-v2\")\n",
    "#model = model.to('cuda')\n",
    "\n",
    "# ✅ Prepare DataLoader\n",
    "train_dataloader = DataLoader(examples, shuffle=True, batch_size=64)\n",
    "\n",
    "# ✅ Choose Loss\n",
    "train_loss = losses.MultipleNegativesRankingLoss(model)\n",
    "\n",
    "evaluator = EmbeddingSimilarityEvaluator(sentences1, sentences2, scores)\n",
    "model.fit(\n",
    "    train_objectives=[(train_dataloader, train_loss)],\n",
    "    epochs=5,\n",
    "    evaluator=evaluator,\n",
    "    evaluation_steps=500,\n",
    "    warmup_steps=100,\n",
    "    show_progress_bar=True\n",
    ")\n"
   ]
  },
  {
   "cell_type": "code",
   "execution_count": 9,
   "metadata": {},
   "outputs": [
    {
     "name": "stdout",
     "output_type": "stream",
     "text": [
      "✅ Model saved at: custom_insurance_encoder\n"
     ]
    }
   ],
   "source": [
    "model_save_path = \"custom_insurance_encoder\"\n",
    "model.save(model_save_path)\n",
    "print(f\"✅ Model saved at: {model_save_path}\")\n"
   ]
  },
  {
   "cell_type": "code",
   "execution_count": 10,
   "metadata": {},
   "outputs": [
    {
     "name": "stdout",
     "output_type": "stream",
     "text": [
      "Similarity between 1st and 2nd: tensor([[0.8101]])\n"
     ]
    }
   ],
   "source": [
    "sentences = [\n",
    "    \"What does liability insurance cover?\",\n",
    "    \"Tell me about car insurance coverage.\",\n",
    "    \"When does a policy lapse?\"\n",
    "]\n",
    "\n",
    "embeddings = model.encode(sentences, convert_to_tensor=True)\n",
    "\n",
    "# Check cosine similarity (optional)\n",
    "from sentence_transformers.util import cos_sim\n",
    "print(\"Similarity between 1st and 2nd:\", cos_sim(embeddings[0], embeddings[1]))\n"
   ]
  },
  {
   "cell_type": "markdown",
   "metadata": {},
   "source": [
    "# HE WALA GHE"
   ]
  },
  {
   "cell_type": "code",
   "execution_count": 12,
   "metadata": {},
   "outputs": [
    {
     "name": "stdout",
     "output_type": "stream",
     "text": [
      "💬 Insurance Chatbot Started! Type 'voice' for voice input. Say 'thank you', 'ok', or 'exit' to stop.\n",
      "User question:  hey there i am sejal , i want to know about various types of insurances\n"
     ]
    },
    {
     "data": {
      "text/markdown": [
       "🤖 Bot: [From Memory] Hello Sejal! I'm here to help you understand the **types of insurance available in India** and their key features. Let’s break them down:\n",
       "\n",
       "---\n",
       "\n",
       "### **1. Life Insurance**  \n",
       "- **Purpose**: Financial protection for your family in case of your untimely death.  \n",
       "- **Types**:  \n",
       "  - **Term Insurance**: Pure risk cover (no maturity benefit). *E.g., HDFC Life Click 2 Protect*.  \n",
       "  - **Endowment Plans**: Savings + life cover. *E.g., LIC Money Back Policy*.  \n",
       "  - **ULIPs (Unit-Linked Insurance Plans)**: Combines insurance + investment.  \n",
       "  - **Whole Life Insurance**: Coverage until death.  \n",
       "- **Tax Benefit**: Premiums qualify under **Section 80C**.\n",
       "\n",
       "---\n",
       "\n",
       "### **2. Health Insurance**  \n",
       "- **Purpose**: Covers medical expenses due to illness/accidents.  \n",
       "- **Types**:  \n",
       "  - **Individual/ Family Floater**: Covers self or family under one policy.  \n",
       "  - **Critical Illness Insurance**: Lump-sum payout for diseases like cancer.  \n",
       "  - **Senior Citizen Plans**: Tailored for ages 60+.  \n",
       "  - **Government Schemes**: *Ayushman Bharat (PM-JAY)* for low-income families.  \n",
       "- **Tax Benefit**: Premiums up to ₹25,000–₹75,000 under **Section 80D**.\n",
       "\n",
       "---\n",
       "\n",
       "### **3. Motor Insurance**  \n",
       "- **Mandatory in India** (under the *Motor Vehicles Act*).  \n",
       "- **Types**:  \n",
       "  - **Third-Party Insurance**: Covers damage to others (vehicles/injuries).  \n",
       "  - **Comprehensive Policy**: Covers own vehicle + third-party liabilities.  \n",
       "\n",
       "---\n",
       "\n",
       "### **4. Travel Insurance**  \n",
       "- Covers trip cancellations, medical emergencies abroad, lost baggage, etc.  \n",
       "- **Key for international trips** (some countries mandate it for visas).  \n",
       "\n",
       "---\n",
       "\n",
       "### **5. Home Insurance**  \n",
       "- Protects against damage to property (fire, theft, natural disasters).  \n",
       "- **Types**: Structure coverage (building) + contents (belongings).  \n",
       "\n",
       "---\n",
       "\n",
       "### **6. Liability Insurance**  \n",
       "- **Professional Liability**: For doctors, lawyers (malpractice claims).  \n",
       "- **Public Liability**: Covers third-party injuries/damage (e.g., business owners).  \n",
       "\n",
       "---\n",
       "\n",
       "### **Other Specialized Insurances**  \n",
       "- **Crop Insurance**: For farmers (e.g., *PM Fasal Bima Yojana*).  \n",
       "- **Pet Insurance**: Covers veterinary expenses.  \n",
       "- **Gadget Insurance**: For phones, laptops.  \n",
       "\n",
       "---\n",
       "\n",
       "### **Key Regulator**:  \n",
       "- **IRDAI** (Insurance Regulatory and Development Authority of India) oversees all policies.  \n",
       "\n",
       "Need details on **claims, policy transfers, or switching insurers**? Feel free to ask! 😊"
      ],
      "text/plain": [
       "<IPython.core.display.Markdown object>"
      ]
     },
     "metadata": {},
     "output_type": "display_data"
    },
    {
     "name": "stdout",
     "output_type": "stream",
     "text": [
      "User question:  explain health insurance senior citizen plans in detail\n"
     ]
    },
    {
     "data": {
      "text/markdown": [
       "🤖 Bot: **Health Insurance Senior Citizen Plans in India (Detailed Explanation)**  \n",
       "\n",
       "Health insurance for senior citizens (typically aged 60+) in India is tailored to address the unique medical needs of older adults. Here’s a breakdown of key aspects:  \n",
       "\n",
       "---\n",
       "\n",
       "### **1. Key Features of Senior Citizen Health Plans**  \n",
       "- **Higher Sum Insured**: Coverage ranges from ₹1 lakh to ₹25+ lakhs to manage age-related health risks.  \n",
       "- **Comprehensive Coverage**:  \n",
       "  - Hospitalization (room rent, ICU, surgery).  \n",
       "  - Pre- & post-hospitalization expenses (up to 60 days).  \n",
       "  - Pre-existing diseases (PEDs) covered after a **waiting period** (1–4 years).  \n",
       "  - Daycare procedures, domiciliary treatment, and AYUSH treatments.  \n",
       "- **Lifelong Renewability**: Mandated by IRDAI, ensuring coverage beyond 65+ years.  \n",
       "- **Higher Premiums**: Reflects increased health risks but offers tax benefits under **Section 80D** (up to ₹50,000 for seniors).  \n",
       "- **Co-payment Clause**: Seniors may pay 10–30% of claims (varies by insurer).  \n",
       "\n",
       "---\n",
       "\n",
       "### **2. Types of Senior Citizen Plans**  \n",
       "- **Standalone Senior Plans**: Exclusive policies for ages 60–70 (e.g., Star Health Senior Citizen Red Carpet).  \n",
       "- **Family Floater with Senior Inclusion**: Covers seniors under a family plan (age limits apply).  \n",
       "- **Top-up/Super Top-up Plans**: Enhances coverage beyond base policy limits.  \n",
       "- **Critical Illness Riders**: Add-ons for diseases like cancer or heart ailments.  \n",
       "\n",
       "---\n",
       "\n",
       "### **3. Government Schemes for Seniors**  \n",
       "- **Ayushman Bharat (PM-JAY)**: Covers ₹5 lakh/year for low-income families (includes seniors).  \n",
       "- **Niramaya Health Insurance**: For disabled/autistic individuals (includes seniors).  \n",
       "- **Varishta Mediclaim (by LIC)**: Covers hospitalization for ages 60–80.  \n",
       "\n",
       "---\n",
       "\n",
       "### **4. Considerations When Choosing a Plan**  \n",
       "- **Coverage Adequacy**: Ensure the sum insured matches potential medical costs.  \n",
       "- **Waiting Periods**: Check terms for PEDs, specific illnesses, and maternity.  \n",
       "- **Network Hospitals**: Opt for insurers with wide hospital networks.  \n",
       "- **Claim Settlement Ratio (CSR)**: Prioritize insurers with CSR >90% (e.g., Oriental, Star Health).  \n",
       "\n",
       "---\n",
       "\n",
       "### **Answers to Related Queries**  \n",
       "1. **Best Supplemental Health Insurance**:  \n",
       "   - **Super Top-up Plans** (covers costs beyond base policy).  \n",
       "   - **Critical Illness Riders** (lump-sum payout for specific diseases).  \n",
       "\n",
       "2. **Supplemental Insurance for Elders**:  \n",
       "   Often called **\"senior-specific riders\"** or **\"top-up plans\"** in India.  \n",
       "\n",
       "3. **Grandfathered Health Plans**:  \n",
       "   Rarely used in India. Refers to older policies exempt from new regulations. Most insurers now comply with IRDAI’s standardized guidelines.  \n",
       "\n",
       "--- \n",
       "\n",
       "**Final Tip**: Compare policies on portals like Policybazaar, check exclusions, and prioritize lifelong renewability. Always disclose medical history to avoid claim rejection."
      ],
      "text/plain": [
       "<IPython.core.display.Markdown object>"
      ]
     },
     "metadata": {},
     "output_type": "display_data"
    },
    {
     "name": "stdout",
     "output_type": "stream",
     "text": [
      "User question:  do they cover age above 75\n"
     ]
    },
    {
     "data": {
      "text/markdown": [
       "🤖 Bot: In India, insurance coverage for individuals above 75 years of age is possible, but it depends on the type of policy and insurer. Here are the key details:\n",
       "\n",
       "### 1. **Senior Citizen-Specific Policies**  \n",
       "   Many insurers offer **dedicated health insurance plans for seniors** (e.g., Star Health's Senior Citizen Red Carpet, National Insurance's Varistha Mediclaim). These typically:  \n",
       "   - Cover individuals up to **90 years** (renewable for life in some cases).  \n",
       "   - Require **medical check-ups** for enrollment.  \n",
       "   - Include features like **pre-existing disease coverage** (after a 2–4-year waiting period).  \n",
       "\n",
       "### 2. **IRDAI Guidelines**  \n",
       "   Insurers cannot deny coverage solely based on age (as per regulations). However, they may:  \n",
       "   - Charge **higher premiums** due to age-related risks.  \n",
       "   - Impose **co-payment clauses** (e.g., 20–30% of claims shared by the insured).  \n",
       "   - Exclude certain treatments or limit the **sum insured**.  \n",
       "\n",
       "### 3. **Critical Factors**  \n",
       "   - **Pre-existing conditions**: Declare them upfront; coverage may start after a waiting period.  \n",
       "   - **Renewability**: Ensure the policy is lifelong renewable.  \n",
       "   - **Group/Floter Plans**: Some family floaters allow senior members if the primary insured is younger.  \n",
       "\n",
       "### 4. **Suggestions**  \n",
       "   - Compare policies via platforms like **Policybazaar** or **Coverfox**.  \n",
       "   - Consult insurers directly (e.g., Star Health, HDFC Ergo) for tailored options.  \n",
       "\n",
       "While options exist, terms are stricter and costlier. Always read policy documents carefully! 🩺💡"
      ],
      "text/plain": [
       "<IPython.core.display.Markdown object>"
      ]
     },
     "metadata": {},
     "output_type": "display_data"
    },
    {
     "name": "stdout",
     "output_type": "stream",
     "text": [
      "🤖 Bot: Have a great day! 😊\n"
     ]
    }
   ],
   "source": [
    "from IPython.display import display, Markdown\n",
    "\n",
    "\n",
    "# ✅ Load Fine-Tuned Sentence Transformer\n",
    "model = SentenceTransformer(r\"D:\\NLPInsuranceProject\\NLPINSURANCE-FINTECHPROJ\\custom_insurance_encoder\")\n",
    "\n",
    "# ✅ Load Insurance Questions\n",
    "import json\n",
    "with open(r\"D:\\NLPInsuranceProject\\NLPINSURANCE-FINTECHPROJ\\decoded_questions.json\", \"r\", encoding=\"utf-8\") as file:\n",
    "    insurance_data = json.load(file)\n",
    "\n",
    "questions = [entry[\"question\"] for entry in insurance_data]\n",
    "question_embeddings = model.encode(questions)\n",
    "\n",
    "# ✅ Set Up SQLite for Memory\n",
    "conn = sqlite3.connect(\"chatbot_memory.db\", check_same_thread=False)\n",
    "cursor = conn.cursor()\n",
    "cursor.execute(\"CREATE TABLE IF NOT EXISTS chatbot_memory (query TEXT, response TEXT)\")\n",
    "conn.commit()\n",
    "\n",
    "# ✅ Function to Search Memory\n",
    "def search_memory(user_query):\n",
    "    cursor.execute(\"SELECT response FROM chatbot_memory WHERE query=?\", (user_query,))\n",
    "    result = cursor.fetchone()\n",
    "    return result[0] if result else None\n",
    "\n",
    "# ✅ Function to Store in Memory\n",
    "def store_memory(user_query, response):\n",
    "    cursor.execute(\"INSERT INTO chatbot_memory (query, response) VALUES (?, ?)\", (user_query, response))\n",
    "    conn.commit()\n",
    "\n",
    "# ✅ Function for Semantic Search\n",
    "def find_relevant_questions(user_query):\n",
    "    query_embedding = model.encode([user_query])\n",
    "    similarities = np.dot(query_embedding, question_embeddings.T)[0]\n",
    "    top_indices = np.argsort(similarities)[-3:][::-1]\n",
    "    relevant_questions = [questions[i] for i in top_indices]\n",
    "    return relevant_questions\n",
    "\n",
    "# ✅ Function to Get Insurance Answer\n",
    "def get_insurance_response(user_query):\n",
    "    # Step 1: Check Memory\n",
    "    memory_response = search_memory(user_query)\n",
    "    if memory_response:\n",
    "        return f\"[From Memory] {memory_response}\"\n",
    "\n",
    "    # Step 2: Find Relevant Questions\n",
    "    relevant_questions = find_relevant_questions(user_query)\n",
    "\n",
    "    # Step 3: Call OpenRouter (DeepSeek R1)\n",
    "    try:\n",
    "        response = client.chat.completions.create(\n",
    "            model=\"deepseek/deepseek-r1:free\",\n",
    "            messages=[\n",
    "                {\"role\": \"system\", \"content\": \"You are an insurance chatbot based from India who follows rules and regulations related to insurance for India. Answer insurance-related questions only. If non-insurance related questions asked please politely deny saying i am not made for this domain\"},\n",
    "                {\"role\": \"user\", \"content\": f\"User Query: {user_query}\\nRelevant Questions: {relevant_questions}\"}\n",
    "            ],\n",
    "            temperature=0.3,\n",
    "        )\n",
    "        chatbot_response = response.choices[0].message.content\n",
    "        store_memory(user_query, chatbot_response)  # Save response in memory\n",
    "        return chatbot_response\n",
    "    except Exception as e:\n",
    "        return f\"Error: {str(e)}\"\n",
    "\n",
    "# ✅ Voice Input & Output Functions\n",
    "def recognize_speech():\n",
    "    recognizer = sr.Recognizer()\n",
    "    with sr.Microphone() as source:\n",
    "        print(\"🎤 Listening...\")\n",
    "        recognizer.adjust_for_ambient_noise(source)\n",
    "        audio = recognizer.listen(source)\n",
    "    try:\n",
    "        return recognizer.recognize_google(audio)\n",
    "    except sr.UnknownValueError:\n",
    "        return \"Sorry, I couldn't understand.\"\n",
    "    except sr.RequestError:\n",
    "        return \"Speech recognition service is unavailable.\"\n",
    "\n",
    "def speak_response(response):\n",
    "    engine = pyttsx3.init()\n",
    "    engine.say(response)\n",
    "    \n",
    "    try:\n",
    "        engine.runAndWait()  # Normal execution\n",
    "    except RuntimeError:\n",
    "        engine.endLoop()  # Stop the current event loop\n",
    "        engine.runAndWait() \n",
    "\n",
    "# ✅ Main Chat Loop (Conversation Mode)\n",
    "def start_chatbot():\n",
    "    print(\"💬 Insurance Chatbot Started! Type 'voice' for voice input. Say 'thank you', 'ok', or 'exit' to stop.\")\n",
    "    \n",
    "    while True:\n",
    "        user_input = input(\"👤 You: \").strip().lower()\n",
    "        print(\"User question: \" ,user_input)\n",
    "\n",
    "        # Handle voice input\n",
    "        if user_input == \"voice\":\n",
    "            user_input = recognize_speech()\n",
    "            print(f\"👤 You (via voice): {user_input}\")\n",
    "\n",
    "        # Check for exit words\n",
    "        if user_input in [\"thank you\", \"thanks\", \"ok\", \"exit\", \"goodbye\", \"bye\"]:\n",
    "            print(\"🤖 Bot: You're welcome! Have a great day! 😊\")\n",
    "            speak_response(\"You're welcome! Have a great day!\")\n",
    "            break\n",
    "\n",
    "        # Get response\n",
    "        bot_response = get_insurance_response(user_input)\n",
    "    \n",
    "        display(Markdown(f\"🤖 Bot: {bot_response}\"))\n",
    "        speak_response(bot_response)\n",
    "\n",
    "        # Ask if further help is needed\n",
    "        follow_up = input(\"🤖 Bot: Do you need help with anything else? (yes/no) \").strip().lower()\n",
    "        if follow_up in [\"no\", \"thank you\", \"thanks\", \"ok\", \"exit\", \"goodbye\", \"bye\"]:\n",
    "            print(\"🤖 Bot: Have a great day! 😊\")\n",
    "            speak_response(\"Have a great day!\")\n",
    "            break\n",
    "\n",
    "# ✅ Run the Chatbot\n",
    "if __name__ == \"__main__\":\n",
    "    start_chatbot()\n"
   ]
  },
  {
   "cell_type": "code",
   "execution_count": null,
   "metadata": {},
   "outputs": [],
   "source": []
  },
  {
   "cell_type": "code",
   "execution_count": null,
   "metadata": {},
   "outputs": [],
   "source": []
  }
 ],
 "metadata": {
  "kernelspec": {
   "display_name": "base",
   "language": "python",
   "name": "python3"
  },
  "language_info": {
   "codemirror_mode": {
    "name": "ipython",
    "version": 3
   },
   "file_extension": ".py",
   "mimetype": "text/x-python",
   "name": "python",
   "nbconvert_exporter": "python",
   "pygments_lexer": "ipython3",
   "version": "3.12.3"
  }
 },
 "nbformat": 4,
 "nbformat_minor": 2
}
