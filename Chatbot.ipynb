{
 "cells": [
  {
   "cell_type": "markdown",
   "metadata": {},
   "source": [
    "# Step 1: Decode the InsuranceQA Dataset"
   ]
  },
  {
   "cell_type": "code",
   "execution_count": 15,
   "metadata": {},
   "outputs": [
    {
     "name": "stdout",
     "output_type": "stream",
     "text": [
      "✅ Decoding complete! Results saved to D:\\NLPInsuranceProject\\decoded_questions.json\n",
      "[\n",
      "    {\n",
      "        \"category\": \"disability-insurance\",\n",
      "        \"question\": \"Is Disability Insurance Required By Law?\"\n",
      "    },\n",
      "    {\n",
      "        \"category\": \"life-insurance\",\n",
      "        \"question\": \"Can Creditors Take Life Insurance After Death?\"\n",
      "    },\n",
      "    {\n",
      "        \"category\": \"renters-insurance\",\n",
      "        \"question\": \"Does Travelers Insurance Have Renters Insurance?\"\n",
      "    }\n",
      "]\n"
     ]
    }
   ],
   "source": [
    "import json\n",
    "import gzip\n",
    "\n",
    "# Function to load vocabulary from a file\n",
    "def load_vocabulary(vocab_file_path):\n",
    "    vocab_dict = {}\n",
    "    with open(vocab_file_path, \"r\", encoding=\"utf-8\") as file:\n",
    "        for line in file:\n",
    "            parts = line.strip().split(\"\\t\", 1)  # Split only on the first tab\n",
    "            if len(parts) == 2:\n",
    "                index, word = parts\n",
    "                vocab_dict[index] = word  # Store mapping\n",
    "    return vocab_dict\n",
    "\n",
    "# Function to decode category and question only\n",
    "def decode_questions(encoded_file_path, vocab_dict1, vocab_dict2):\n",
    "    decoded_questions = []\n",
    "    \n",
    "    try:\n",
    "        with gzip.open(encoded_file_path, 'rt', encoding='utf-8') as file:\n",
    "            for line in file:\n",
    "                parts = line.strip().split(\"\\t\")\n",
    "                \n",
    "                if len(parts) >= 2:  # Ensure the format is correct\n",
    "                    question_category = parts[0]  # The first part is the category\n",
    "                    encoded_question = parts[1]  # The second part is the encoded question\n",
    "\n",
    "                    # Decode the question using both vocab dictionaries\n",
    "                    decoded_question = \" \".join([vocab_dict1.get(token, vocab_dict2.get(token, \"[UNKNOWN]\")) for token in encoded_question.split()])\n",
    "\n",
    "                    # Store the decoded category and question\n",
    "                    decoded_questions.append({\n",
    "                        'category': question_category,\n",
    "                        'question': decoded_question\n",
    "                    })\n",
    "    except Exception as e:\n",
    "        print(f\"Error decoding file {encoded_file_path}: {e}\")\n",
    "    \n",
    "    return decoded_questions\n",
    "\n",
    "# File paths\n",
    "vocab_file1_path = r\"D:\\NLPInsuranceProject\\NLPINSURANCE-FINTECHPROJ\\dataset insurance qa\\vocabulary\"\n",
    "vocab_file2_path = r\"D:\\NLPInsuranceProject\\NLPINSURANCE-FINTECHPROJ\\vocabulary.txt\"\n",
    "train_file_path = r\"D:\\NLPInsuranceProject\\NLPINSURANCE-FINTECHPROJ\\dataset insurance qa\\InsuranceQA.question.anslabel.raw.1500.pool.solr.train.encoded.gz\"\n",
    "test1_file_path = r\"D:\\NLPInsuranceProject\\NLPINSURANCE-FINTECHPROJ\\dataset insurance qa\\InsuranceQA.question.anslabel.raw.1500.pool.solr.test.encoded.gz\"\n",
    "test2_file_path = r\"D:\\NLPInsuranceProject\\NLPINSURANCE-FINTECHPROJ\\dataset insurance qa\\InsuranceQA.question.anslabel.raw.1000.pool.solr.test.encoded.gz\"\n",
    "\n",
    "# Load both vocabulary files\n",
    "vocab_dict1 = load_vocabulary(vocab_file1_path)\n",
    "vocab_dict2 = load_vocabulary(vocab_file2_path)\n",
    "\n",
    "# Decode only questions\n",
    "train_questions = decode_questions(train_file_path, vocab_dict1, vocab_dict2)\n",
    "test1_questions = decode_questions(test1_file_path, vocab_dict1, vocab_dict2)\n",
    "test2_questions = decode_questions(test2_file_path, vocab_dict1, vocab_dict2)\n",
    "\n",
    "# Combine all decoded questions\n",
    "all_questions_decoded = train_questions + test1_questions + test2_questions\n",
    "\n",
    "# Save decoded data as a JSON file\n",
    "output_file_path = r\"D:\\NLPInsuranceProject\\decoded_questions.json\"\n",
    "with open(output_file_path, 'w', encoding='utf-8') as f_out:\n",
    "    json.dump(all_questions_decoded, f_out, indent=4, ensure_ascii=False)\n",
    "\n",
    "print(f\"✅ Decoding complete! Results saved to {output_file_path}\")\n",
    "\n",
    "# Display a few decoded examples\n",
    "print(json.dumps(all_questions_decoded[:3], indent=4, ensure_ascii=False))\n"
   ]
  },
  {
   "cell_type": "code",
   "execution_count": 16,
   "metadata": {},
   "outputs": [
    {
     "name": "stdout",
     "output_type": "stream",
     "text": [
      "Note: you may need to restart the kernel to use updated packages.\n"
     ]
    },
    {
     "name": "stderr",
     "output_type": "stream",
     "text": [
      "ERROR: Could not find a version that satisfies the requirement speech_recognition (from versions: none)\n",
      "ERROR: No matching distribution found for speech_recognition\n"
     ]
    }
   ],
   "source": [
    "pip install speech_recognition"
   ]
  },
  {
   "cell_type": "code",
   "execution_count": 33,
   "metadata": {},
   "outputs": [
    {
     "name": "stdout",
     "output_type": "stream",
     "text": [
      "💬 Insurance Chatbot Started! Type 'voice' for voice input. Say 'thank you', 'ok', or 'exit' to stop.\n",
      "User question:  is disability insurance required by law?\n"
     ]
    },
    {
     "data": {
      "text/markdown": [
       "🤖 Bot: In India, **disability insurance is not universally required by law for individuals**. However, certain **employer-specific obligations** exist under social security laws:\n",
       "\n",
       "1. **Employees' State Insurance (ESI) Act, 1948**:  \n",
       "   Employers with 10+ employees (in notified establishments) must contribute to the ESI scheme, which includes **temporary or permanent disability benefits** due to work-related injuries or occupational diseases. This is mandatory for eligible employees earning up to ₹21,000/month.\n",
       "\n",
       "2. **Workmen’s Compensation Act, 1923**:  \n",
       "   Employers are legally required to compensate employees for disabilities arising from workplace accidents or occupational hazards.\n",
       "\n",
       "### For Individuals:\n",
       "- **Private disability insurance** (covering non-work-related disabilities) is **voluntary**.  \n",
       "- Government schemes like *Pradhan Mantri Suraksha Bima Yojana* (accidental disability coverage) are optional but recommended.\n",
       "\n",
       "### Key Takeaway:\n",
       "While disability coverage is **legally mandated for employers in specific cases**, individuals should consider **supplementing with private insurance** for comprehensive protection beyond statutory limits. Let me know if you need help choosing a policy!"
      ],
      "text/plain": [
       "<IPython.core.display.Markdown object>"
      ]
     },
     "metadata": {},
     "output_type": "display_data"
    },
    {
     "name": "stdout",
     "output_type": "stream",
     "text": [
      "User question:  is disability insurance required by law?\n"
     ]
    },
    {
     "data": {
      "text/markdown": [
       "🤖 Bot: [From Memory] In India, **disability insurance is not universally required by law for individuals**. However, certain **employer-specific obligations** exist under social security laws:\n",
       "\n",
       "1. **Employees' State Insurance (ESI) Act, 1948**:  \n",
       "   Employers with 10+ employees (in notified establishments) must contribute to the ESI scheme, which includes **temporary or permanent disability benefits** due to work-related injuries or occupational diseases. This is mandatory for eligible employees earning up to ₹21,000/month.\n",
       "\n",
       "2. **Workmen’s Compensation Act, 1923**:  \n",
       "   Employers are legally required to compensate employees for disabilities arising from workplace accidents or occupational hazards.\n",
       "\n",
       "### For Individuals:\n",
       "- **Private disability insurance** (covering non-work-related disabilities) is **voluntary**.  \n",
       "- Government schemes like *Pradhan Mantri Suraksha Bima Yojana* (accidental disability coverage) are optional but recommended.\n",
       "\n",
       "### Key Takeaway:\n",
       "While disability coverage is **legally mandated for employers in specific cases**, individuals should consider **supplementing with private insurance** for comprehensive protection beyond statutory limits. Let me know if you need help choosing a policy!"
      ],
      "text/plain": [
       "<IPython.core.display.Markdown object>"
      ]
     },
     "metadata": {},
     "output_type": "display_data"
    },
    {
     "name": "stdout",
     "output_type": "stream",
     "text": [
      "User question:  what are available insurance for these in india\n"
     ]
    },
    {
     "data": {
      "text/markdown": [
       "🤖 Bot: In India, various insurance options are available across different categories, including life, health, motor, and disability insurance. Below is a breakdown based on your query:\n",
       "\n",
       "---\n",
       "\n",
       "### **1. Insurance Policies Under ₹16,000/Year (Approx. $200)**  \n",
       "Premiums vary by age, coverage, and policy type, but here are affordable options:  \n",
       "- **Term Life Insurance**:  \n",
       "  - **LIC** (e-Term Plan), **HDFC Life**, **SBI Life**, **ICICI Pru Life**, **Max Life**.  \n",
       "  - *Example*: A 30-year-old can get ₹1 crore coverage for ₹8,000–12,000/year.  \n",
       "\n",
       "- **Health Insurance**:  \n",
       "  - **Star Health**, **Aditya Birla Health**, **Niva Bupa**, **Care Health**.  \n",
       "  - *Example*: A basic ₹5 lakh family floater plan costs ₹10,000–15,000/year.  \n",
       "\n",
       "- **Motor Insurance**:  \n",
       "  - Third-party bike insurance starts at ₹700–2,000/year; car insurance (third-party) from ₹2,000–7,000/year.  \n",
       "\n",
       "- **Personal Accident Insurance**:  \n",
       "  - **Bajaj Allianz**, **Tata AIG**, **Oriental Insurance**.  \n",
       "  - *Example*: ₹10 lakh coverage for ₹500–1,500/year.  \n",
       "\n",
       "---\n",
       "\n",
       "### **2. Short-Term Disability Insurance**  \n",
       "In India, standalone short-term disability insurance is rare, but coverage is often included in:  \n",
       "- **Health Insurance Riders**: Add-ons for temporary disability due to accidents (e.g., HDFC Ergo, ICICI Lombard).  \n",
       "- **Personal Accident Policies**: Covers disability (partial/total) from accidents.  \n",
       "- **Government Schemes**:  \n",
       "  - **Pradhan Mantri Suraksha Bima Yojana (PMSBY)**: ₹12/year for ₹2 lakh accidental disability/death coverage.  \n",
       "  - Employers’ **Employee State Insurance Corporation (ESIC)** benefits (for organized sector workers).  \n",
       "\n",
       "---\n",
       "\n",
       "### **Key Notes**  \n",
       "- Premiums depend on age, health, occupation, and coverage.  \n",
       "- Always compare policies on **IRDAI-approved platforms** (Policybazaar, Coverfox) or consult agents.  \n",
       "- Read terms for exclusions (e.g., pre-existing diseases in health insurance).  \n",
       "\n",
       "Let me know if you need help with a specific policy! 🛡️"
      ],
      "text/plain": [
       "<IPython.core.display.Markdown object>"
      ]
     },
     "metadata": {},
     "output_type": "display_data"
    },
    {
     "name": "stdout",
     "output_type": "stream",
     "text": [
      "🤖 Bot: Have a great day! 😊\n"
     ]
    }
   ],
   "source": [
    "import sqlite3\n",
    "import speech_recognition as sr\n",
    "import pyttsx3\n",
    "import numpy as np\n",
    "from openai import OpenAI\n",
    "from sentence_transformers import SentenceTransformer\n",
    "from IPython.display import display, Markdown\n",
    "\n",
    "# ✅ Set Up OpenRouter API\n",
    "API_KEY = \"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\"\n",
    "client = OpenAI(\n",
    "    base_url=\"https://openrouter.ai/api/v1\",\n",
    "    api_key=API_KEY,\n",
    "    default_headers={ \n",
    "        \"Authorization\": f\"Bearer {API_KEY}\",  \n",
    "        \"X-Title\": \"Insurance Chatbot\"\n",
    "    }\n",
    ")\n",
    "\n",
    "# ✅ Load Fine-Tuned Sentence Transformer\n",
    "model = SentenceTransformer(\"all-MiniLM-L6-v2\")\n",
    "\n",
    "# ✅ Load Insurance Questions\n",
    "import json\n",
    "with open(r\"D:\\NLPInsuranceProject\\decoded_questions.json\", \"r\", encoding=\"utf-8\") as file:\n",
    "    insurance_data = json.load(file)\n",
    "\n",
    "questions = [entry[\"question\"] for entry in insurance_data]\n",
    "question_embeddings = model.encode(questions)\n",
    "\n",
    "# ✅ Set Up SQLite for Memory\n",
    "conn = sqlite3.connect(\"chatbot_memory.db\", check_same_thread=False)\n",
    "cursor = conn.cursor()\n",
    "cursor.execute(\"CREATE TABLE IF NOT EXISTS chatbot_memory (query TEXT, response TEXT)\")\n",
    "conn.commit()\n",
    "\n",
    "# ✅ Function to Search Memory\n",
    "def search_memory(user_query):\n",
    "    cursor.execute(\"SELECT response FROM chatbot_memory WHERE query=?\", (user_query,))\n",
    "    result = cursor.fetchone()\n",
    "    return result[0] if result else None\n",
    "\n",
    "# ✅ Function to Store in Memory\n",
    "def store_memory(user_query, response):\n",
    "    cursor.execute(\"INSERT INTO chatbot_memory (query, response) VALUES (?, ?)\", (user_query, response))\n",
    "    conn.commit()\n",
    "\n",
    "# ✅ Function for Semantic Search\n",
    "def find_relevant_questions(user_query):\n",
    "    query_embedding = model.encode([user_query])\n",
    "    similarities = np.dot(query_embedding, question_embeddings.T)[0]\n",
    "    top_indices = np.argsort(similarities)[-3:][::-1]\n",
    "    relevant_questions = [questions[i] for i in top_indices]\n",
    "    return relevant_questions\n",
    "\n",
    "# ✅ Function to Get Insurance Answer\n",
    "def get_insurance_response(user_query):\n",
    "    # Step 1: Check Memory\n",
    "    memory_response = search_memory(user_query)\n",
    "    if memory_response:\n",
    "        return f\"[From Memory] {memory_response}\"\n",
    "\n",
    "    # Step 2: Find Relevant Questions\n",
    "    relevant_questions = find_relevant_questions(user_query)\n",
    "\n",
    "    # Step 3: Call OpenRouter (DeepSeek R1)\n",
    "    try:\n",
    "        response = client.chat.completions.create(\n",
    "            model=\"deepseek/deepseek-r1:free\",\n",
    "            messages=[\n",
    "                {\"role\": \"system\", \"content\": \"You are an insurance chatbot based from India who follows rules and regulations related to insurance for India. Answer insurance-related questions only. If non-insurance related questions asked please politely deny saying i am not made for this domain\"},\n",
    "                {\"role\": \"user\", \"content\": f\"User Query: {user_query}\\nRelevant Questions: {relevant_questions}\"}\n",
    "            ],\n",
    "            temperature=0.3,\n",
    "        )\n",
    "        chatbot_response = response.choices[0].message.content\n",
    "        store_memory(user_query, chatbot_response)  # Save response in memory\n",
    "        return chatbot_response\n",
    "    except Exception as e:\n",
    "        return f\"Error: {str(e)}\"\n",
    "\n",
    "# ✅ Voice Input & Output Functions\n",
    "def recognize_speech():\n",
    "    recognizer = sr.Recognizer()\n",
    "    with sr.Microphone() as source:\n",
    "        print(\"🎤 Listening...\")\n",
    "        recognizer.adjust_for_ambient_noise(source)\n",
    "        audio = recognizer.listen(source)\n",
    "    try:\n",
    "        return recognizer.recognize_google(audio)\n",
    "    except sr.UnknownValueError:\n",
    "        return \"Sorry, I couldn't understand.\"\n",
    "    except sr.RequestError:\n",
    "        return \"Speech recognition service is unavailable.\"\n",
    "\n",
    "def speak_response(response):\n",
    "    engine = pyttsx3.init()\n",
    "    engine.say(response)\n",
    "    \n",
    "    try:\n",
    "        engine.runAndWait()  # Normal execution\n",
    "    except RuntimeError:\n",
    "        engine.endLoop()  # Stop the current event loop\n",
    "        engine.runAndWait() \n",
    "\n",
    "# ✅ Main Chat Loop (Conversation Mode)\n",
    "def start_chatbot():\n",
    "    print(\"💬 Insurance Chatbot Started! Type 'voice' for voice input. Say 'thank you', 'ok', or 'exit' to stop.\")\n",
    "    \n",
    "    while True:\n",
    "        user_input = input(\"👤 You: \").strip().lower()\n",
    "        print(\"User question: \" ,user_input)\n",
    "\n",
    "        # Handle voice input\n",
    "        if user_input == \"voice\":\n",
    "            user_input = recognize_speech()\n",
    "            print(f\"👤 You (via voice): {user_input}\")\n",
    "\n",
    "        # Check for exit words\n",
    "        if user_input in [\"thank you\", \"thanks\", \"ok\", \"exit\", \"goodbye\", \"bye\"]:\n",
    "            print(\"🤖 Bot: You're welcome! Have a great day! 😊\")\n",
    "            speak_response(\"You're welcome! Have a great day!\")\n",
    "            break\n",
    "\n",
    "        # Get response\n",
    "        bot_response = get_insurance_response(user_input)\n",
    "    \n",
    "        display(Markdown(f\"🤖 Bot: {bot_response}\"))\n",
    "        speak_response(bot_response)\n",
    "\n",
    "        # Ask if further help is needed\n",
    "        follow_up = input(\"🤖 Bot: Do you need help with anything else? (yes/no) \").strip().lower()\n",
    "        if follow_up in [\"no\", \"thank you\", \"thanks\", \"ok\", \"exit\", \"goodbye\", \"bye\"]:\n",
    "            print(\"🤖 Bot: Have a great day! 😊\")\n",
    "            speak_response(\"Have a great day!\")\n",
    "            break\n",
    "\n",
    "# ✅ Run the Chatbot\n",
    "if __name__ == \"__main__\":\n",
    "    start_chatbot()\n"
   ]
  },
  {
   "cell_type": "code",
   "execution_count": null,
   "metadata": {},
   "outputs": [],
   "source": []
  }
 ],
 "metadata": {
  "kernelspec": {
   "display_name": "base",
   "language": "python",
   "name": "python3"
  },
  "language_info": {
   "codemirror_mode": {
    "name": "ipython",
    "version": 3
   },
   "file_extension": ".py",
   "mimetype": "text/x-python",
   "name": "python",
   "nbconvert_exporter": "python",
   "pygments_lexer": "ipython3",
   "version": "3.12.3"
  }
 },
 "nbformat": 4,
 "nbformat_minor": 2
}
