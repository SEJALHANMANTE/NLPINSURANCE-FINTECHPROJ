{
 "cells": [
  {
   "cell_type": "markdown",
   "metadata": {},
   "source": [
    "# Step 1: Decode the InsuranceQA Dataset"
   ]
  },
  {
   "cell_type": "code",
   "execution_count": 1,
   "metadata": {},
   "outputs": [],
   "source": [
    "# Check the contents of the vocabulary file to understand its format\n",
    "vocab_file_path = r\"D:\\NLPInsuranceProject\\NLPINSURANCE-FINTECHPROJ\\dataset insurance qa\\vocabulary\"\n",
    "\n",
    "# Read the first few lines of the file\n",
    "with open(vocab_file_path, \"r\", encoding=\"utf-8\") as file:\n",
    "    vocab_lines = [next(file) for _ in range(10)]  # Read first 10 lines\n",
    "\n",
    "# Load vocabulary mapping from file\n",
    "vocab_dict = {}\n",
    "\n",
    "with open(vocab_file_path, \"r\", encoding=\"utf-8\") as file:\n",
    "    for line in file:\n",
    "        index, word = line.strip().split(\"\\t\", 1)  # Split only on the first tab\n",
    "        vocab_dict[index] = word  # Store mapping\n",
    "\n",
    "# Check a few entries in the dictionary\n",
    "list(vocab_dict.items())[:10]\n",
    "\n",
    "import gzip\n",
    "\n",
    "# Function to decode an encoded dataset using the vocabulary dictionary\n",
    "def decode_qa_pairs(encoded_file_path, vocab_dict):\n",
    "    decoded_qa_pairs = []\n",
    "    \n",
    "    with gzip.open(encoded_file_path, 'rt', encoding='utf-8') as file:\n",
    "        for line in file:\n",
    "            parts = line.strip().split(\"\\t\")\n",
    "            if len(parts) >= 2:\n",
    "                decoded_question = \" \".join([vocab_dict.get(token, token) for token in parts[0].split()])\n",
    "                decoded_answers = [\" \".join([vocab_dict.get(token, token) for token in ans.split()]) for ans in parts[1:]]\n",
    "                decoded_qa_pairs.append({\n",
    "                    'question': decoded_question,\n",
    "                    'answers': decoded_answers\n",
    "                })\n",
    "    \n",
    "    return decoded_qa_pairs\n",
    "\n",
    "# Paths to the dataset files\n",
    "train_file_path = r\"D:\\NLPInsuranceProject\\NLPINSURANCE-FINTECHPROJ\\dataset insurance qa\\InsuranceQA.question.anslabel.raw.1500.pool.solr.train.encoded.gz\"\n",
    "test1_file_path = r\"D:\\NLPInsuranceProject\\NLPINSURANCE-FINTECHPROJ\\dataset insurance qa\\InsuranceQA.question.anslabel.raw.1500.pool.solr.test.encoded.gz\"\n",
    "test2_file_path = r\"D:\\NLPInsuranceProject\\NLPINSURANCE-FINTECHPROJ\\dataset insurance qa\\InsuranceQA.question.anslabel.raw.1000.pool.solr.test.encoded.gz\"\n",
    "\n",
    "# Decode the datasets\n",
    "try:\n",
    "    train_qa_decoded = decode_qa_pairs(train_file_path, vocab_dict)\n",
    "    test1_qa_decoded = decode_qa_pairs(test1_file_path, vocab_dict)\n",
    "    test2_qa_decoded = decode_qa_pairs(test2_file_path, vocab_dict)\n",
    "    \n",
    "    # Combine all decoded datasets\n",
    "    all_qa_decoded = train_qa_decoded + test1_qa_decoded + test2_qa_decoded\n",
    "\n",
    "    # Display a few decoded examples\n",
    "    all_qa_decoded[:3]\n",
    "except Exception as e:\n",
    "    str(e)\n"
   ]
  },
  {
   "cell_type": "markdown",
   "metadata": {},
   "source": [
    "# Step 2 : Sentence Transformer "
   ]
  },
  {
   "cell_type": "code",
   "execution_count": 2,
   "metadata": {},
   "outputs": [
    {
     "name": "stdout",
     "output_type": "stream",
     "text": [
      "Requirement already satisfied: datasets in d:\\anaconda3\\lib\\site-packages (3.4.1)\n",
      "Requirement already satisfied: filelock in d:\\anaconda3\\lib\\site-packages (from datasets) (3.13.1)\n",
      "Requirement already satisfied: numpy>=1.17 in d:\\anaconda3\\lib\\site-packages (from datasets) (1.26.4)\n",
      "Requirement already satisfied: pyarrow>=15.0.0 in d:\\anaconda3\\lib\\site-packages (from datasets) (19.0.1)\n",
      "Requirement already satisfied: dill<0.3.9,>=0.3.0 in d:\\anaconda3\\lib\\site-packages (from datasets) (0.3.8)\n",
      "Requirement already satisfied: pandas in d:\\anaconda3\\lib\\site-packages (from datasets) (2.2.3)\n",
      "Requirement already satisfied: requests>=2.32.2 in d:\\anaconda3\\lib\\site-packages (from datasets) (2.32.3)\n",
      "Requirement already satisfied: tqdm>=4.66.3 in d:\\anaconda3\\lib\\site-packages (from datasets) (4.66.4)\n",
      "Requirement already satisfied: xxhash in d:\\anaconda3\\lib\\site-packages (from datasets) (3.5.0)\n",
      "Requirement already satisfied: multiprocess<0.70.17 in d:\\anaconda3\\lib\\site-packages (from datasets) (0.70.16)\n",
      "Requirement already satisfied: fsspec<=2024.12.0,>=2023.1.0 in d:\\anaconda3\\lib\\site-packages (from fsspec[http]<=2024.12.0,>=2023.1.0->datasets) (2024.6.1)\n",
      "Requirement already satisfied: aiohttp in d:\\anaconda3\\lib\\site-packages (from datasets) (3.9.5)\n",
      "Requirement already satisfied: huggingface-hub>=0.24.0 in d:\\anaconda3\\lib\\site-packages (from datasets) (0.26.2)\n",
      "Requirement already satisfied: packaging in d:\\anaconda3\\lib\\site-packages (from datasets) (23.2)\n",
      "Requirement already satisfied: pyyaml>=5.1 in d:\\anaconda3\\lib\\site-packages (from datasets) (6.0.1)\n",
      "Requirement already satisfied: aiosignal>=1.1.2 in d:\\anaconda3\\lib\\site-packages (from aiohttp->datasets) (1.2.0)\n",
      "Requirement already satisfied: attrs>=17.3.0 in d:\\anaconda3\\lib\\site-packages (from aiohttp->datasets) (24.2.0)\n",
      "Requirement already satisfied: frozenlist>=1.1.1 in d:\\anaconda3\\lib\\site-packages (from aiohttp->datasets) (1.4.0)\n",
      "Requirement already satisfied: multidict<7.0,>=4.5 in d:\\anaconda3\\lib\\site-packages (from aiohttp->datasets) (6.0.4)\n",
      "Requirement already satisfied: yarl<2.0,>=1.0 in d:\\anaconda3\\lib\\site-packages (from aiohttp->datasets) (1.9.3)\n",
      "Requirement already satisfied: typing-extensions>=3.7.4.3 in d:\\anaconda3\\lib\\site-packages (from huggingface-hub>=0.24.0->datasets) (4.11.0)\n",
      "Requirement already satisfied: charset-normalizer<4,>=2 in d:\\anaconda3\\lib\\site-packages (from requests>=2.32.2->datasets) (2.0.4)\n",
      "Requirement already satisfied: idna<4,>=2.5 in d:\\anaconda3\\lib\\site-packages (from requests>=2.32.2->datasets) (3.7)\n",
      "Requirement already satisfied: urllib3<3,>=1.21.1 in d:\\anaconda3\\lib\\site-packages (from requests>=2.32.2->datasets) (2.2.2)\n",
      "Requirement already satisfied: certifi>=2017.4.17 in d:\\anaconda3\\lib\\site-packages (from requests>=2.32.2->datasets) (2024.8.30)\n",
      "Requirement already satisfied: colorama in d:\\anaconda3\\lib\\site-packages (from tqdm>=4.66.3->datasets) (0.4.6)\n",
      "Requirement already satisfied: python-dateutil>=2.8.2 in d:\\anaconda3\\lib\\site-packages (from pandas->datasets) (2.9.0.post0)\n",
      "Requirement already satisfied: pytz>=2020.1 in d:\\anaconda3\\lib\\site-packages (from pandas->datasets) (2024.1)\n",
      "Requirement already satisfied: tzdata>=2022.7 in d:\\anaconda3\\lib\\site-packages (from pandas->datasets) (2023.3)\n",
      "Requirement already satisfied: six>=1.5 in d:\\anaconda3\\lib\\site-packages (from python-dateutil>=2.8.2->pandas->datasets) (1.16.0)\n",
      "Note: you may need to restart the kernel to use updated packages.\n"
     ]
    }
   ],
   "source": [
    "pip install datasets "
   ]
  },
  {
   "cell_type": "code",
   "execution_count": null,
   "metadata": {},
   "outputs": [
    {
     "name": "stdout",
     "output_type": "stream",
     "text": [
      "WARNING:tensorflow:From d:\\anaconda3\\Lib\\site-packages\\tf_keras\\src\\losses.py:2976: The name tf.losses.sparse_softmax_cross_entropy is deprecated. Please use tf.compat.v1.losses.sparse_softmax_cross_entropy instead.\n",
      "\n"
     ]
    },
    {
     "data": {
      "application/vnd.jupyter.widget-view+json": {
       "model_id": "42e55e4367964ff0afce638d9a2b4eff",
       "version_major": 2,
       "version_minor": 0
      },
      "text/plain": [
       "Computing widget examples:   0%|          | 0/1 [00:00<?, ?example/s]"
      ]
     },
     "metadata": {},
     "output_type": "display_data"
    },
    {
     "data": {
      "text/html": [
       "\n",
       "    <div>\n",
       "      \n",
       "      <progress value='236' max='9501' style='width:300px; height:20px; vertical-align: middle;'></progress>\n",
       "      [ 236/9501 12:57 < 8:32:49, 0.30 it/s, Epoch 0.07/3]\n",
       "    </div>\n",
       "    <table border=\"1\" class=\"dataframe\">\n",
       "  <thead>\n",
       " <tr style=\"text-align: left;\">\n",
       "      <th>Step</th>\n",
       "      <th>Training Loss</th>\n",
       "    </tr>\n",
       "  </thead>\n",
       "  <tbody>\n",
       "  </tbody>\n",
       "</table><p>"
      ],
      "text/plain": [
       "<IPython.core.display.HTML object>"
      ]
     },
     "metadata": {},
     "output_type": "display_data"
    }
   ],
   "source": [
    "from sentence_transformers import SentenceTransformer, InputExample, losses, models, datasets\n",
    "from torch.utils.data import DataLoader\n",
    "\n",
    "# Load a base pre-trained model \n",
    "base_model = \"all-MiniLM-L6-v2\"  \n",
    "model = SentenceTransformer(base_model)\n",
    "\n",
    "# Prepare training data\n",
    "train_examples = []\n",
    "for qa_pair in all_qa_decoded:\n",
    "    question = qa_pair['question']\n",
    "    for answer in qa_pair['answers']:\n",
    "        train_examples.append(InputExample(texts=[question, answer]))\n",
    "\n",
    "# Create DataLoader\n",
    "train_dataloader = DataLoader(train_examples, shuffle=True, batch_size=16)\n",
    "train_loss = losses.MultipleNegativesRankingLoss(model)\n",
    "\n",
    "# Fine-tune model\n",
    "num_epochs = 3  # Adjust as needed\n",
    "model.fit(\n",
    "    train_objectives=[(train_dataloader, train_loss)],\n",
    "    epochs=num_epochs,\n",
    "    warmup_steps=100\n",
    ")\n",
    "\n",
    "# Save trained model\n",
    "model_save_path = \"insurance_qa_transformers\"\n",
    "model.save(model_save_path)\n",
    "\n",
    "print(f\"Model saved at: {model_save_path}\")\n"
   ]
  },
  {
   "cell_type": "code",
   "execution_count": null,
   "metadata": {},
   "outputs": [],
   "source": []
  }
 ],
 "metadata": {
  "kernelspec": {
   "display_name": "base",
   "language": "python",
   "name": "python3"
  },
  "language_info": {
   "codemirror_mode": {
    "name": "ipython",
    "version": 3
   },
   "file_extension": ".py",
   "mimetype": "text/x-python",
   "name": "python",
   "nbconvert_exporter": "python",
   "pygments_lexer": "ipython3",
   "version": "3.12.3"
  }
 },
 "nbformat": 4,
 "nbformat_minor": 2
}
