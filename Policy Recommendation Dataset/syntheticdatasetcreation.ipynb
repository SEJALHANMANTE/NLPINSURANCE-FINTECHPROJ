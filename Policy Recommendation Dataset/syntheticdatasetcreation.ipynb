{
 "cells": [
  {
   "cell_type": "code",
   "execution_count": 1,
   "metadata": {},
   "outputs": [
    {
     "name": "stdout",
     "output_type": "stream",
     "text": [
      "Collecting faker\n",
      "  Downloading faker-37.1.0-py3-none-any.whl.metadata (15 kB)\n",
      "Requirement already satisfied: tzdata in d:\\anaconda3\\lib\\site-packages (from faker) (2023.3)\n",
      "Downloading faker-37.1.0-py3-none-any.whl (1.9 MB)\n",
      "   ---------------------------------------- 0.0/1.9 MB ? eta -:--:--\n",
      "   ---------- ----------------------------- 0.5/1.9 MB 4.2 MB/s eta 0:00:01\n",
      "   ---------------- ----------------------- 0.8/1.9 MB 2.6 MB/s eta 0:00:01\n",
      "   ---------------- ----------------------- 0.8/1.9 MB 2.6 MB/s eta 0:00:01\n",
      "   --------------------- ------------------ 1.0/1.9 MB 1.2 MB/s eta 0:00:01\n",
      "   --------------------- ------------------ 1.0/1.9 MB 1.2 MB/s eta 0:00:01\n",
      "   --------------------- ------------------ 1.0/1.9 MB 1.2 MB/s eta 0:00:01\n",
      "   --------------------- ------------------ 1.0/1.9 MB 1.2 MB/s eta 0:00:01\n",
      "   --------------------------- ------------ 1.3/1.9 MB 745.3 kB/s eta 0:00:01\n",
      "   --------------------------- ------------ 1.3/1.9 MB 745.3 kB/s eta 0:00:01\n",
      "   --------------------------- ------------ 1.3/1.9 MB 745.3 kB/s eta 0:00:01\n",
      "   -------------------------------- ------- 1.6/1.9 MB 612.2 kB/s eta 0:00:01\n",
      "   -------------------------------- ------- 1.6/1.9 MB 612.2 kB/s eta 0:00:01\n",
      "   -------------------------------- ------- 1.6/1.9 MB 612.2 kB/s eta 0:00:01\n",
      "   -------------------------------------- - 1.8/1.9 MB 585.1 kB/s eta 0:00:01\n",
      "   ---------------------------------------- 1.9/1.9 MB 567.0 kB/s eta 0:00:00\n",
      "Installing collected packages: faker\n",
      "Successfully installed faker-37.1.0\n",
      "Note: you may need to restart the kernel to use updated packages.\n"
     ]
    }
   ],
   "source": [
    "pip install faker"
   ]
  },
  {
   "cell_type": "code",
   "execution_count": 28,
   "metadata": {},
   "outputs": [
    {
     "name": "stdout",
     "output_type": "stream",
     "text": [
      "\n",
      "Sample Life Policies:\n",
      "  Policy_Number   Customer_Name  Age Policy_Type  Sum_Assured  Term  \\\n",
      "0   LIFE-669611   Vincent Nigam   49   Term Plan      2000000    10   \n",
      "1   LIFE-730198  Chatresh Lalla   68  Whole Life      5000000    10   \n",
      "2   LIFE-212958    Fiyaz Narain   65   Term Plan      1000000    20   \n",
      "\n",
      "     Company             Nominee  Smoker  \n",
      "0   Max Life      Ishanvi Vaidya   False  \n",
      "1   Max Life       Dayamai Atwal   False  \n",
      "2  HDFC Life  Christopher Mishra    True  \n"
     ]
    }
   ],
   "source": [
    "import pandas as pd\n",
    "import random\n",
    "import numpy as np\n",
    "from faker import Faker\n",
    "from datetime import datetime\n",
    "\n",
    "fake = Faker('en_IN')\n",
    "\n",
    "# Configuration\n",
    "COMPANIES = {\n",
    "    \"Life\": [\"LIC\", \"HDFC Life\", \"SBI Life\", \"ICICI Pru Life\", \"Max Life\"],\n",
    "    \"Health\": [\"Star Health\", \"HDFC ERGO\", \"Niva Bupa\", \"Care Health\", \"ManipalCigna\"],\n",
    "    \"Motor\": [\"ICICI Lombard\", \"Bajaj Allianz\", \"New India Assurance\", \"Tata AIG\", \"Oriental Insurance\"]\n",
    "}\n",
    "\n",
    "# =============================================\n",
    "# 1. LIFE INSURANCE DATASET (Without ULIP columns)\n",
    "# =============================================\n",
    "def generate_life_policies(num_records=800):\n",
    "    data = []\n",
    "    \n",
    "    for _ in range(num_records):\n",
    "        age = random.randint(20, 70)\n",
    "        policy_type = random.choices(\n",
    "            [\"Term Plan\", \"Endowment\", \"Whole Life\"],  # Removed ULIP\n",
    "            weights=[0.5, 0.3, 0.2]\n",
    "        )[0]\n",
    "        \n",
    "        record = {\n",
    "            \"Policy_Number\": f\"LIFE-{random.randint(100000,999999)}\",\n",
    "            \"Customer_Name\": fake.name(),\n",
    "            \"Age\": age,\n",
    "            \"Policy_Type\": policy_type,\n",
    "            \"Sum_Assured\": random.choice([500000, 1000000, 2000000, 5000000]),\n",
    "            \"Term\": random.choice([10, 15, 20, 25, 30]),\n",
    "            \"Company\": random.choice(COMPANIES[\"Life\"]),\n",
    "            \"Nominee\": fake.name(),\n",
    "            \"Smoker\": random.choices([True, False], weights=[0.15, 0.85])[0],\n",
    "        }\n",
    "        \n",
    "        data.append(record)\n",
    "    \n",
    "    return pd.DataFrame(data)\n",
    "\n",
    "# =============================================\n",
    "# 2. HEALTH INSURANCE DATASET\n",
    "# =============================================\n",
    "def generate_health_policies(num_records=700):\n",
    "    data = []\n",
    "    for _ in range(num_records):\n",
    "        age = random.randint(18, 80)\n",
    "        conditions = []\n",
    "        if age > 50:\n",
    "            conditions.extend(random.sample([\"Hypertension\", \"Diabetes\", \"Arthritis\"], random.randint(0, 2)))\n",
    "        \n",
    "        data.append({\n",
    "            \"Policy_Number\": f\"HLTH-{random.randint(100000,999999)}\",\n",
    "            \"Customer_Name\": fake.name(),\n",
    "            \"Age\": age,\n",
    "            \"Sum_Insured\": random.choice([300000, 500000, 750000, 1000000]),\n",
    "            \"Company\": random.choice(COMPANIES[\"Health\"]),\n",
    "            \"Policy_Type\": random.choice([\"Individual\", \"Family Floater\", \"Senior Citizen\"]),\n",
    "            \"Medical_History\": \", \".join(conditions) if conditions else \"None\",\n",
    "            \"Last_Hospitalization\": fake.date_between(start_date='-5y', end_date='today') if random.random() < 0.3 else \"None\",\n",
    "            \"Preventive_Checkup\": random.choice([True, False])\n",
    "        })\n",
    "    return pd.DataFrame(data)\n",
    "\n",
    "# =============================================\n",
    "# 3. MOTOR INSURANCE DATASET\n",
    "# =============================================\n",
    "def generate_motor_policies(num_records=500):\n",
    "    data = []\n",
    "    for _ in range(num_records):\n",
    "        car_age = random.randint(0, 15)\n",
    "        base_value = random.choice([500000, 750000, 1000000, 1500000])\n",
    "        depreciated_value = int(base_value * (1 - car_age/20))\n",
    "        \n",
    "        data.append({\n",
    "            \"Policy_Number\": f\"MOTR-{random.randint(100000,999999)}\",\n",
    "            \"Vehicle_Number\": f\"{random.choice(['KA','DL','MH','TN'])}{random.randint(10,99)}{chr(random.randint(65,90))}{chr(random.randint(65,90))}{random.randint(1000,9999)}\",\n",
    "            \"Vehicle_Type\": random.choice([\"Hatchback\", \"Sedan\", \"SUV\", \"Electric\"]),\n",
    "            \"Company\": random.choice(COMPANIES[\"Motor\"]),\n",
    "            \"Policy_Type\": random.choice([\"Comprehensive\", \"Third-Party\"]),\n",
    "            \"Manufacture_Year\": datetime.now().year - car_age,\n",
    "            \"IDV_Percentage\": max(80 - car_age, 20),\n",
    "            \"Accident_History\": random.choices([\"None\", \"Minor\", \"Major\"], weights=[0.7, 0.25, 0.05])[0],\n",
    "            \"Current_Value\": depreciated_value,\n",
    "            \"Buyback_Eligible\": car_age < 8\n",
    "        })\n",
    "    return pd.DataFrame(data)\n",
    "\n",
    "# =============================================\n",
    "# GENERATE AND SAVE DATASETS\n",
    "# =============================================\n",
    "life_df = generate_life_policies()\n",
    "health_df = generate_health_policies()\n",
    "motor_df = generate_motor_policies()\n",
    "\n",
    "# Save to CSV\n",
    "life_df.to_csv(\"life_insurance_policies.csv\", index=False)\n",
    "health_df.to_csv(\"health_insurance_policies.csv\", index=False)\n",
    "motor_df.to_csv(\"motor_insurance_policies.csv\", index=False)\n",
    "\n",
    "# Display sample records\n",
    "print(\"\\nSample Life Policies:\")\n",
    "print(life_df.head(3))\n"
   ]
  },
  {
   "cell_type": "code",
   "execution_count": 29,
   "metadata": {},
   "outputs": [
    {
     "data": {
      "text/plain": [
       "Policy_Number    0\n",
       "Customer_Name    0\n",
       "Age              0\n",
       "Policy_Type      0\n",
       "Sum_Assured      0\n",
       "Term             0\n",
       "Company          0\n",
       "Nominee          0\n",
       "Smoker           0\n",
       "dtype: int64"
      ]
     },
     "execution_count": 29,
     "metadata": {},
     "output_type": "execute_result"
    }
   ],
   "source": [
    "life_df.isnull().sum()"
   ]
  },
  {
   "cell_type": "code",
   "execution_count": 13,
   "metadata": {},
   "outputs": [
    {
     "data": {
      "text/plain": [
       "Policy_Number           0\n",
       "Customer_Name           0\n",
       "Age                     0\n",
       "Sum_Insured             0\n",
       "Company                 0\n",
       "Policy_Type             0\n",
       "Medical_History         0\n",
       "Last_Hospitalization    0\n",
       "Preventive_Checkup      0\n",
       "dtype: int64"
      ]
     },
     "execution_count": 13,
     "metadata": {},
     "output_type": "execute_result"
    }
   ],
   "source": [
    "health_df.isnull().sum()"
   ]
  },
  {
   "cell_type": "code",
   "execution_count": 15,
   "metadata": {},
   "outputs": [
    {
     "data": {
      "text/plain": [
       "Policy_Number       0\n",
       "Vehicle_Number      0\n",
       "Vehicle_Type        0\n",
       "Company             0\n",
       "Policy_Type         0\n",
       "Manufacture_Year    0\n",
       "IDV_Percentage      0\n",
       "Accident_History    0\n",
       "Current_Value       0\n",
       "Buyback_Eligible    0\n",
       "dtype: int64"
      ]
     },
     "execution_count": 15,
     "metadata": {},
     "output_type": "execute_result"
    }
   ],
   "source": [
    "motor_df.isnull().sum()"
   ]
  },
  {
   "cell_type": "code",
   "execution_count": null,
   "metadata": {},
   "outputs": [],
   "source": []
  }
 ],
 "metadata": {
  "kernelspec": {
   "display_name": "base",
   "language": "python",
   "name": "python3"
  },
  "language_info": {
   "codemirror_mode": {
    "name": "ipython",
    "version": 3
   },
   "file_extension": ".py",
   "mimetype": "text/x-python",
   "name": "python",
   "nbconvert_exporter": "python",
   "pygments_lexer": "ipython3",
   "version": "3.12.3"
  }
 },
 "nbformat": 4,
 "nbformat_minor": 2
}
